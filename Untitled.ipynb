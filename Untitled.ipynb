{
 "cells": [
  {
   "cell_type": "code",
   "execution_count": 1,
   "metadata": {},
   "outputs": [],
   "source": [
    "from config.config_loader import ConfigLoader\n",
    "from data.dataset_builder import prepare_dataset_dicts, data_split, convert_date\n",
    "from data.transforms import get_train_transforms,  get_valid_transforms\n",
    "from data.data_loaders import train_loaders,  valid_loaders"
   ]
  },
  {
   "cell_type": "code",
   "execution_count": 2,
   "metadata": {},
   "outputs": [],
   "source": [
    "from models import generate_unet_model, generate_resnet3d_model, prepare_model"
   ]
  },
  {
   "cell_type": "code",
   "execution_count": 5,
   "metadata": {},
   "outputs": [],
   "source": [
    "conf = ConfigLoader(\"/tf/yilian618/ABD_Trauma_detection/config/multiple/pretrain_resnet_unet_multidataset_256_64_nagative.ini\")"
   ]
  },
  {
   "cell_type": "code",
   "execution_count": 6,
   "metadata": {},
   "outputs": [],
   "source": [
    "setting = conf.data_setting"
   ]
  },
  {
   "cell_type": "code",
   "execution_count": 7,
   "metadata": {},
   "outputs": [],
   "source": [
    "import pandas as pd\n",
    "All_data = pd.read_csv(\"/tf/yilian618/rsna_train_new_v2.csv\")\n",
    "no_seg = pd.read_csv(\"/tf/yilian618/nosegmentation.csv\")\n",
    "All_data = All_data[~All_data['file_paths'].isin(no_seg['file_paths'])]\n",
    "# Assuming All_data is a pandas DataFrame and 'file_paths' is one of its columns\n",
    "All_data = All_data[~All_data['file_paths'].isin([\"/SSD/rsna-2023/train_images_new/63501/SDY00001/1.2.123.12345.1.2.3.63501.7194.nii.gz\"])]\n",
    "test_data = pd.read_csv(\"/tf/jacky831006/ABD_classification/rsna_test_20240531.csv\")\n",
    "df_all = All_data[~All_data['file_paths'].isin(test_data['file_paths'].values)]\n",
    "\n",
    "pos_data = df_all[df_all['any_injury']==1]\n",
    "neg_data = df_all[df_all['any_injury']==0].sample(n=800, random_state=1)\n",
    "df_all_rsna = pd.concat([pos_data, neg_data])\n",
    "\n",
    " # Data progressing\n",
    "All_data = pd.read_csv(\n",
    "    \"/tf/yilian618/ABD_classification/ABD_venous_all_20230709_for_label_new.csv\"\n",
    ")\n",
    "rm_list = [21410269, 3687455, 21816625, 21410022, 39010142, 20430081]\n",
    "# rm_list = [21410269, 21816625, 21410022,11834]\n",
    "All_data = All_data[~All_data.chartNo.isin(rm_list)]\n",
    "All_data.loc[:, [\"kid_inj_lt\", \"kid_inj_rt\", \"liv_inj\", \"spl_inj\"]] = All_data.loc[\n",
    "    :, [\"kid_inj_lt\", \"kid_inj_rt\", \"liv_inj\", \"spl_inj\"]\n",
    "].fillna(0)\n",
    "All_data = All_data.dropna(subset=[\"label\"])\n",
    "All_data = All_data[All_data.label != \"exclude\"]\n",
    "# 將2016年的資料取出當test\n",
    "All_data[\"TRDx_ER_arrival_time_tmp\"] = pd.to_datetime(All_data[\"TRDx_ER_arrival_time\"])\n",
    "All_data[\"TRDx_ER_arrival_time_tmp\"] = All_data[\"TRDx_ER_arrival_time_tmp\"].dt.strftime(\n",
    "    \"%Y%m%d\"\n",
    ")\n",
    "All_data[\"examdate_tmp\"] = All_data[\"examdate\"].apply(convert_date)\n",
    "All_data[\"examdate_tmp\"] = All_data[\"examdate_tmp\"].fillna(\n",
    "    All_data[\"TRDx_ER_arrival_time_tmp\"]\n",
    ")\n",
    "All_data[\"year\"] = All_data[\"examdate_tmp\"].dt.year\n",
    "\n",
    "df_all_cgmh = All_data"
   ]
  },
  {
   "cell_type": "code",
   "execution_count": 8,
   "metadata": {},
   "outputs": [],
   "source": [
    "\n",
    "\n",
    "train_df_rsna, valid_df_rsna, test_df_rsna = data_split(\n",
    "    df_all_rsna, test_data=test_data, test_fix=None, source=\"RSNA\", ratio=setting.data_split_ratio, seed=setting.seed\n",
    ")\n",
    "train_df_cgmh, valid_df_cgmh, test_df_cgmh = data_split(\n",
    "    df_all_cgmh,test_data=None, test_fix=2016, source=\"CGMH\", ratio=setting.data_split_ratio, seed=setting.seed\n",
    ")"
   ]
  },
  {
   "cell_type": "code",
   "execution_count": 9,
   "metadata": {},
   "outputs": [],
   "source": [
    "train_df_cgmh = train_df_cgmh[:10]\n",
    "train_df_rsna = train_df_rsna[:10]"
   ]
  },
  {
   "cell_type": "code",
   "execution_count": 21,
   "metadata": {},
   "outputs": [
    {
     "data": {
      "text/plain": [
       "20"
      ]
     },
     "execution_count": 21,
     "metadata": {},
     "output_type": "execute_result"
    }
   ],
   "source": [
    "len(train_df_cgmh+train_df_rsna)"
   ]
  },
  {
   "cell_type": "code",
   "execution_count": 10,
   "metadata": {},
   "outputs": [
    {
     "data": {
      "text/html": [
       "<div>\n",
       "<style scoped>\n",
       "    .dataframe tbody tr th:only-of-type {\n",
       "        vertical-align: middle;\n",
       "    }\n",
       "\n",
       "    .dataframe tbody tr th {\n",
       "        vertical-align: top;\n",
       "    }\n",
       "\n",
       "    .dataframe thead th {\n",
       "        text-align: right;\n",
       "    }\n",
       "</style>\n",
       "<table border=\"1\" class=\"dataframe\">\n",
       "  <thead>\n",
       "    <tr style=\"text-align: right;\">\n",
       "      <th></th>\n",
       "      <th>index</th>\n",
       "      <th>Unnamed: 0</th>\n",
       "      <th>chartNo</th>\n",
       "      <th>label</th>\n",
       "      <th>note</th>\n",
       "      <th>liv_pos</th>\n",
       "      <th>liv_prob</th>\n",
       "      <th>kid_prob</th>\n",
       "      <th>kid_inj_lt</th>\n",
       "      <th>kid_inj_rt</th>\n",
       "      <th>...</th>\n",
       "      <th>inj_site_no</th>\n",
       "      <th>inj_solid.1</th>\n",
       "      <th>rand</th>\n",
       "      <th>TRDx_ER_arrival_time_tmp</th>\n",
       "      <th>examdate_tmp</th>\n",
       "      <th>year</th>\n",
       "      <th>kid_inj_tmp</th>\n",
       "      <th>liv_inj_tmp</th>\n",
       "      <th>spl_inj_tmp</th>\n",
       "      <th>group_key</th>\n",
       "    </tr>\n",
       "  </thead>\n",
       "  <tbody>\n",
       "    <tr>\n",
       "      <th>157</th>\n",
       "      <td>163</td>\n",
       "      <td>163</td>\n",
       "      <td>2493754</td>\n",
       "      <td>neg</td>\n",
       "      <td>NaN</td>\n",
       "      <td>0</td>\n",
       "      <td>0</td>\n",
       "      <td>0</td>\n",
       "      <td>0.0</td>\n",
       "      <td>0.0</td>\n",
       "      <td>...</td>\n",
       "      <td>0</td>\n",
       "      <td>0</td>\n",
       "      <td>0.147744</td>\n",
       "      <td>NaN</td>\n",
       "      <td>2015-07-26</td>\n",
       "      <td>2015.0</td>\n",
       "      <td>0</td>\n",
       "      <td>0</td>\n",
       "      <td>0</td>\n",
       "      <td>l0_k0_s0</td>\n",
       "    </tr>\n",
       "    <tr>\n",
       "      <th>1248</th>\n",
       "      <td>1296</td>\n",
       "      <td>1296</td>\n",
       "      <td>21622722</td>\n",
       "      <td>neg</td>\n",
       "      <td>NaN</td>\n",
       "      <td>0</td>\n",
       "      <td>0</td>\n",
       "      <td>0</td>\n",
       "      <td>0.0</td>\n",
       "      <td>0.0</td>\n",
       "      <td>...</td>\n",
       "      <td>0</td>\n",
       "      <td>0</td>\n",
       "      <td>0.329948</td>\n",
       "      <td>NaN</td>\n",
       "      <td>2014-01-19</td>\n",
       "      <td>2014.0</td>\n",
       "      <td>0</td>\n",
       "      <td>0</td>\n",
       "      <td>0</td>\n",
       "      <td>l0_k0_s0</td>\n",
       "    </tr>\n",
       "    <tr>\n",
       "      <th>793</th>\n",
       "      <td>825</td>\n",
       "      <td>825</td>\n",
       "      <td>21086468</td>\n",
       "      <td>neg</td>\n",
       "      <td>NaN</td>\n",
       "      <td>0</td>\n",
       "      <td>0</td>\n",
       "      <td>0</td>\n",
       "      <td>0.0</td>\n",
       "      <td>0.0</td>\n",
       "      <td>...</td>\n",
       "      <td>0</td>\n",
       "      <td>0</td>\n",
       "      <td>0.605051</td>\n",
       "      <td>20130909</td>\n",
       "      <td>2013-09-10</td>\n",
       "      <td>2013.0</td>\n",
       "      <td>0</td>\n",
       "      <td>0</td>\n",
       "      <td>0</td>\n",
       "      <td>l0_k0_s0</td>\n",
       "    </tr>\n",
       "    <tr>\n",
       "      <th>860</th>\n",
       "      <td>895</td>\n",
       "      <td>895</td>\n",
       "      <td>21238749</td>\n",
       "      <td>neg</td>\n",
       "      <td>NaN</td>\n",
       "      <td>0</td>\n",
       "      <td>0</td>\n",
       "      <td>0</td>\n",
       "      <td>0.0</td>\n",
       "      <td>0.0</td>\n",
       "      <td>...</td>\n",
       "      <td>0</td>\n",
       "      <td>0</td>\n",
       "      <td>0.941550</td>\n",
       "      <td>20090108</td>\n",
       "      <td>2009-01-08</td>\n",
       "      <td>2009.0</td>\n",
       "      <td>0</td>\n",
       "      <td>0</td>\n",
       "      <td>0</td>\n",
       "      <td>l0_k0_s0</td>\n",
       "    </tr>\n",
       "    <tr>\n",
       "      <th>398</th>\n",
       "      <td>414</td>\n",
       "      <td>414</td>\n",
       "      <td>3914277</td>\n",
       "      <td>neg</td>\n",
       "      <td>NaN</td>\n",
       "      <td>0</td>\n",
       "      <td>0</td>\n",
       "      <td>0</td>\n",
       "      <td>0.0</td>\n",
       "      <td>0.0</td>\n",
       "      <td>...</td>\n",
       "      <td>0</td>\n",
       "      <td>0</td>\n",
       "      <td>0.957712</td>\n",
       "      <td>NaN</td>\n",
       "      <td>2014-06-12</td>\n",
       "      <td>2014.0</td>\n",
       "      <td>0</td>\n",
       "      <td>0</td>\n",
       "      <td>0</td>\n",
       "      <td>l0_k0_s0</td>\n",
       "    </tr>\n",
       "    <tr>\n",
       "      <th>661</th>\n",
       "      <td>688</td>\n",
       "      <td>688</td>\n",
       "      <td>20369298</td>\n",
       "      <td>neg</td>\n",
       "      <td>NaN</td>\n",
       "      <td>0</td>\n",
       "      <td>0</td>\n",
       "      <td>0</td>\n",
       "      <td>0.0</td>\n",
       "      <td>0.0</td>\n",
       "      <td>...</td>\n",
       "      <td>0</td>\n",
       "      <td>0</td>\n",
       "      <td>0.875133</td>\n",
       "      <td>20081228</td>\n",
       "      <td>2008-12-28</td>\n",
       "      <td>2008.0</td>\n",
       "      <td>0</td>\n",
       "      <td>0</td>\n",
       "      <td>0</td>\n",
       "      <td>l0_k0_s0</td>\n",
       "    </tr>\n",
       "    <tr>\n",
       "      <th>1048</th>\n",
       "      <td>1092</td>\n",
       "      <td>1092</td>\n",
       "      <td>21427839</td>\n",
       "      <td>neg</td>\n",
       "      <td>NaN</td>\n",
       "      <td>0</td>\n",
       "      <td>0</td>\n",
       "      <td>0</td>\n",
       "      <td>0.0</td>\n",
       "      <td>0.0</td>\n",
       "      <td>...</td>\n",
       "      <td>0</td>\n",
       "      <td>0</td>\n",
       "      <td>0.190422</td>\n",
       "      <td>20110601</td>\n",
       "      <td>2011-06-01</td>\n",
       "      <td>2011.0</td>\n",
       "      <td>0</td>\n",
       "      <td>0</td>\n",
       "      <td>0</td>\n",
       "      <td>l0_k0_s0</td>\n",
       "    </tr>\n",
       "    <tr>\n",
       "      <th>64</th>\n",
       "      <td>66</td>\n",
       "      <td>66</td>\n",
       "      <td>1996548</td>\n",
       "      <td>neg</td>\n",
       "      <td>NaN</td>\n",
       "      <td>0</td>\n",
       "      <td>0</td>\n",
       "      <td>0</td>\n",
       "      <td>0.0</td>\n",
       "      <td>0.0</td>\n",
       "      <td>...</td>\n",
       "      <td>0</td>\n",
       "      <td>0</td>\n",
       "      <td>0.951291</td>\n",
       "      <td>NaN</td>\n",
       "      <td>2012-06-16</td>\n",
       "      <td>2012.0</td>\n",
       "      <td>0</td>\n",
       "      <td>0</td>\n",
       "      <td>0</td>\n",
       "      <td>l0_k0_s0</td>\n",
       "    </tr>\n",
       "    <tr>\n",
       "      <th>70</th>\n",
       "      <td>73</td>\n",
       "      <td>73</td>\n",
       "      <td>2020729</td>\n",
       "      <td>neg</td>\n",
       "      <td>huge liver cyst</td>\n",
       "      <td>0</td>\n",
       "      <td>0</td>\n",
       "      <td>0</td>\n",
       "      <td>0.0</td>\n",
       "      <td>0.0</td>\n",
       "      <td>...</td>\n",
       "      <td>0</td>\n",
       "      <td>0</td>\n",
       "      <td>0.953583</td>\n",
       "      <td>NaN</td>\n",
       "      <td>2011-06-02</td>\n",
       "      <td>2011.0</td>\n",
       "      <td>0</td>\n",
       "      <td>0</td>\n",
       "      <td>0</td>\n",
       "      <td>l0_k0_s0</td>\n",
       "    </tr>\n",
       "    <tr>\n",
       "      <th>477</th>\n",
       "      <td>495</td>\n",
       "      <td>495</td>\n",
       "      <td>8744440</td>\n",
       "      <td>neg</td>\n",
       "      <td>NaN</td>\n",
       "      <td>0</td>\n",
       "      <td>0</td>\n",
       "      <td>0</td>\n",
       "      <td>0.0</td>\n",
       "      <td>0.0</td>\n",
       "      <td>...</td>\n",
       "      <td>0</td>\n",
       "      <td>0</td>\n",
       "      <td>0.969516</td>\n",
       "      <td>NaN</td>\n",
       "      <td>2014-08-04</td>\n",
       "      <td>2014.0</td>\n",
       "      <td>0</td>\n",
       "      <td>0</td>\n",
       "      <td>0</td>\n",
       "      <td>l0_k0_s0</td>\n",
       "    </tr>\n",
       "  </tbody>\n",
       "</table>\n",
       "<p>10 rows × 69 columns</p>\n",
       "</div>"
      ],
      "text/plain": [
       "      index  Unnamed: 0   chartNo label             note  liv_pos  liv_prob  \\\n",
       "157     163         163   2493754   neg              NaN        0         0   \n",
       "1248   1296        1296  21622722   neg              NaN        0         0   \n",
       "793     825         825  21086468   neg              NaN        0         0   \n",
       "860     895         895  21238749   neg              NaN        0         0   \n",
       "398     414         414   3914277   neg              NaN        0         0   \n",
       "661     688         688  20369298   neg              NaN        0         0   \n",
       "1048   1092        1092  21427839   neg              NaN        0         0   \n",
       "64       66          66   1996548   neg              NaN        0         0   \n",
       "70       73          73   2020729   neg  huge liver cyst        0         0   \n",
       "477     495         495   8744440   neg              NaN        0         0   \n",
       "\n",
       "      kid_prob  kid_inj_lt  kid_inj_rt  ...  inj_site_no  inj_solid.1  \\\n",
       "157          0         0.0         0.0  ...            0            0   \n",
       "1248         0         0.0         0.0  ...            0            0   \n",
       "793          0         0.0         0.0  ...            0            0   \n",
       "860          0         0.0         0.0  ...            0            0   \n",
       "398          0         0.0         0.0  ...            0            0   \n",
       "661          0         0.0         0.0  ...            0            0   \n",
       "1048         0         0.0         0.0  ...            0            0   \n",
       "64           0         0.0         0.0  ...            0            0   \n",
       "70           0         0.0         0.0  ...            0            0   \n",
       "477          0         0.0         0.0  ...            0            0   \n",
       "\n",
       "          rand  TRDx_ER_arrival_time_tmp examdate_tmp    year kid_inj_tmp  \\\n",
       "157   0.147744                       NaN   2015-07-26  2015.0           0   \n",
       "1248  0.329948                       NaN   2014-01-19  2014.0           0   \n",
       "793   0.605051                  20130909   2013-09-10  2013.0           0   \n",
       "860   0.941550                  20090108   2009-01-08  2009.0           0   \n",
       "398   0.957712                       NaN   2014-06-12  2014.0           0   \n",
       "661   0.875133                  20081228   2008-12-28  2008.0           0   \n",
       "1048  0.190422                  20110601   2011-06-01  2011.0           0   \n",
       "64    0.951291                       NaN   2012-06-16  2012.0           0   \n",
       "70    0.953583                       NaN   2011-06-02  2011.0           0   \n",
       "477   0.969516                       NaN   2014-08-04  2014.0           0   \n",
       "\n",
       "      liv_inj_tmp  spl_inj_tmp group_key  \n",
       "157             0            0  l0_k0_s0  \n",
       "1248            0            0  l0_k0_s0  \n",
       "793             0            0  l0_k0_s0  \n",
       "860             0            0  l0_k0_s0  \n",
       "398             0            0  l0_k0_s0  \n",
       "661             0            0  l0_k0_s0  \n",
       "1048            0            0  l0_k0_s0  \n",
       "64              0            0  l0_k0_s0  \n",
       "70              0            0  l0_k0_s0  \n",
       "477             0            0  l0_k0_s0  \n",
       "\n",
       "[10 rows x 69 columns]"
      ]
     },
     "execution_count": 10,
     "metadata": {},
     "output_type": "execute_result"
    }
   ],
   "source": [
    "train_df_cgmh"
   ]
  },
  {
   "cell_type": "code",
   "execution_count": 11,
   "metadata": {},
   "outputs": [
    {
     "data": {
      "text/plain": [
       "(0.8, 0.2, 0.2)"
      ]
     },
     "execution_count": 11,
     "metadata": {},
     "output_type": "execute_result"
    }
   ],
   "source": [
    "setting.data_split_ratio"
   ]
  },
  {
   "cell_type": "code",
   "execution_count": null,
   "metadata": {},
   "outputs": [],
   "source": []
  },
  {
   "cell_type": "code",
   "execution_count": 12,
   "metadata": {},
   "outputs": [],
   "source": [
    "from config.config_loader import ConfigLoader, TrainingProgressTracker\n",
    "tracker = TrainingProgressTracker()"
   ]
  },
  {
   "cell_type": "code",
   "execution_count": 10,
   "metadata": {},
   "outputs": [
    {
     "data": {
      "text/plain": [
       "[]"
      ]
     },
     "execution_count": 10,
     "metadata": {},
     "output_type": "execute_result"
    }
   ],
   "source": [
    "tracker.epoch_loss_values"
   ]
  },
  {
   "cell_type": "code",
   "execution_count": 13,
   "metadata": {},
   "outputs": [],
   "source": [
    "class_type = \"multiple\""
   ]
  },
  {
   "cell_type": "code",
   "execution_count": 14,
   "metadata": {},
   "outputs": [],
   "source": [
    "train_transforms = get_valid_transforms(class_type=class_type, cfg = conf)"
   ]
  },
  {
   "cell_type": "code",
   "execution_count": 17,
   "metadata": {},
   "outputs": [
    {
     "data": {
      "text/plain": [
       "<function data.data_loaders.train_loaders(cfg: config.config_loader.ConfigLoader, train_df, train_df_extra: Union[object, NoneType] = None, data_source: str = 'cgmh', class_type: str = 'multiple', train_transforms=None)>"
      ]
     },
     "execution_count": 17,
     "metadata": {},
     "output_type": "execute_result"
    }
   ],
   "source": [
    "train_loaders"
   ]
  },
  {
   "cell_type": "code",
   "execution_count": 20,
   "metadata": {},
   "outputs": [
    {
     "data": {
      "text/plain": [
       "2"
      ]
     },
     "execution_count": 20,
     "metadata": {},
     "output_type": "execute_result"
    }
   ],
   "source": [
    "len(train_loader)"
   ]
  },
  {
   "cell_type": "code",
   "execution_count": 18,
   "metadata": {},
   "outputs": [
    {
     "name": "stderr",
     "output_type": "stream",
     "text": [
      "Loading dataset: 100%|██████████| 10/10 [00:40<00:00,  4.07s/it]\n"
     ]
    }
   ],
   "source": [
    "train_loader = train_loaders(conf, train_df_cgmh, None, data_source=\"cgmh\", class_type=class_type, train_transforms=train_transforms)"
   ]
  },
  {
   "cell_type": "code",
   "execution_count": 12,
   "metadata": {},
   "outputs": [],
   "source": [
    "import torch\n",
    "device = torch.device(\"cuda\" if torch.cuda.is_available() else \"cpu\")"
   ]
  },
  {
   "cell_type": "code",
   "execution_count": 14,
   "metadata": {},
   "outputs": [],
   "source": [
    "model = prepare_model(conf, device, resnet_depth=50, n_input_channels=1, class_type=class_type, pretrain=True)"
   ]
  },
  {
   "cell_type": "code",
   "execution_count": 5,
   "metadata": {},
   "outputs": [],
   "source": [
    "from utils.loss import LossBuilder"
   ]
  },
  {
   "cell_type": "code",
   "execution_count": 13,
   "metadata": {},
   "outputs": [],
   "source": [
    "loss_function = LossBuilder(conf, df_cgmh = df_all_cgmh, df_rsna = df_all_rsna, class_type=class_type, device=device).get_loss_function()"
   ]
  },
  {
   "cell_type": "code",
   "execution_count": 16,
   "metadata": {},
   "outputs": [
    {
     "data": {
      "text/plain": [
       "MultiSegLossFull(\n",
       "  (amse): AMSELossFull()\n",
       ")"
      ]
     },
     "execution_count": 16,
     "metadata": {},
     "output_type": "execute_result"
    }
   ],
   "source": [
    "loss_function"
   ]
  },
  {
   "cell_type": "code",
   "execution_count": 5,
   "metadata": {},
   "outputs": [],
   "source": [
    "from data.dataset_builder import prepare_dataset_dicts, data_split, load_cgmh_data, load_rsna_data"
   ]
  },
  {
   "cell_type": "code",
   "execution_count": 6,
   "metadata": {},
   "outputs": [],
   "source": [
    "df_all_rsna = load_rsna_data(\n",
    "    rsna_path=\"/tf/yilian618/rsna_train_new_v2.csv\",\n",
    "    noseg_path=\"/tf/yilian618/nosegmentation.csv\",\n",
    "    test_path=\"/tf/jacky831006/ABD_classification/rsna_test_20240531.csv\",\n",
    "    seed=setting.seed,\n",
    "    neg_sample=800,\n",
    ")\n",
    "\n",
    "df_all_cgmh = load_cgmh_data(\n",
    "    path=\"/tf/yilian618/ABD_classification/ABD_venous_all_20230709_for_label_new.csv\",\n",
    "    rm_list=[21410269, 3687455, 21816625, 21410022, 39010142, 20430081]\n",
    ")"
   ]
  },
  {
   "cell_type": "code",
   "execution_count": 7,
   "metadata": {},
   "outputs": [
    {
     "data": {
      "text/html": [
       "<div>\n",
       "<style scoped>\n",
       "    .dataframe tbody tr th:only-of-type {\n",
       "        vertical-align: middle;\n",
       "    }\n",
       "\n",
       "    .dataframe tbody tr th {\n",
       "        vertical-align: top;\n",
       "    }\n",
       "\n",
       "    .dataframe thead th {\n",
       "        text-align: right;\n",
       "    }\n",
       "</style>\n",
       "<table border=\"1\" class=\"dataframe\">\n",
       "  <thead>\n",
       "    <tr style=\"text-align: right;\">\n",
       "      <th></th>\n",
       "      <th>Unnamed: 0</th>\n",
       "      <th>chartNo</th>\n",
       "      <th>label</th>\n",
       "      <th>note</th>\n",
       "      <th>liv_pos</th>\n",
       "      <th>liv_prob</th>\n",
       "      <th>kid_prob</th>\n",
       "      <th>kid_inj_lt</th>\n",
       "      <th>kid_inj_rt</th>\n",
       "      <th>liv_inj</th>\n",
       "      <th>...</th>\n",
       "      <th>AD_Dx_note</th>\n",
       "      <th>liver_inj_no</th>\n",
       "      <th>kidney_inj_no</th>\n",
       "      <th>spleen_inj_no</th>\n",
       "      <th>inj_site_no</th>\n",
       "      <th>inj_solid.1</th>\n",
       "      <th>rand</th>\n",
       "      <th>TRDx_ER_arrival_time_tmp</th>\n",
       "      <th>examdate_tmp</th>\n",
       "      <th>year</th>\n",
       "    </tr>\n",
       "  </thead>\n",
       "  <tbody>\n",
       "    <tr>\n",
       "      <th>0</th>\n",
       "      <td>0</td>\n",
       "      <td>135574</td>\n",
       "      <td>neg</td>\n",
       "      <td>NaN</td>\n",
       "      <td>0</td>\n",
       "      <td>0</td>\n",
       "      <td>0</td>\n",
       "      <td>0.0</td>\n",
       "      <td>0.0</td>\n",
       "      <td>0.0</td>\n",
       "      <td>...</td>\n",
       "      <td>NaN</td>\n",
       "      <td>0</td>\n",
       "      <td>0</td>\n",
       "      <td>0</td>\n",
       "      <td>0</td>\n",
       "      <td>0</td>\n",
       "      <td>0.603099</td>\n",
       "      <td>NaN</td>\n",
       "      <td>2013-08-09</td>\n",
       "      <td>2013.0</td>\n",
       "    </tr>\n",
       "    <tr>\n",
       "      <th>2</th>\n",
       "      <td>2</td>\n",
       "      <td>164056</td>\n",
       "      <td>neg</td>\n",
       "      <td>NaN</td>\n",
       "      <td>0</td>\n",
       "      <td>0</td>\n",
       "      <td>0</td>\n",
       "      <td>0.0</td>\n",
       "      <td>0.0</td>\n",
       "      <td>0.0</td>\n",
       "      <td>...</td>\n",
       "      <td>1. L4 compression fracture ==&gt; Operation on 12...</td>\n",
       "      <td>0</td>\n",
       "      <td>0</td>\n",
       "      <td>0</td>\n",
       "      <td>0</td>\n",
       "      <td>0</td>\n",
       "      <td>0.650862</td>\n",
       "      <td>20101123</td>\n",
       "      <td>2010-11-23</td>\n",
       "      <td>2010.0</td>\n",
       "    </tr>\n",
       "    <tr>\n",
       "      <th>3</th>\n",
       "      <td>3</td>\n",
       "      <td>172868</td>\n",
       "      <td>neg</td>\n",
       "      <td>NaN</td>\n",
       "      <td>0</td>\n",
       "      <td>0</td>\n",
       "      <td>0</td>\n",
       "      <td>0.0</td>\n",
       "      <td>0.0</td>\n",
       "      <td>0.0</td>\n",
       "      <td>...</td>\n",
       "      <td>NaN</td>\n",
       "      <td>0</td>\n",
       "      <td>0</td>\n",
       "      <td>0</td>\n",
       "      <td>0</td>\n",
       "      <td>0</td>\n",
       "      <td>0.909722</td>\n",
       "      <td>NaN</td>\n",
       "      <td>2011-01-12</td>\n",
       "      <td>2011.0</td>\n",
       "    </tr>\n",
       "    <tr>\n",
       "      <th>4</th>\n",
       "      <td>4</td>\n",
       "      <td>187181</td>\n",
       "      <td>neg</td>\n",
       "      <td>NaN</td>\n",
       "      <td>0</td>\n",
       "      <td>0</td>\n",
       "      <td>0</td>\n",
       "      <td>0.0</td>\n",
       "      <td>0.0</td>\n",
       "      <td>0.0</td>\n",
       "      <td>...</td>\n",
       "      <td>NaN</td>\n",
       "      <td>0</td>\n",
       "      <td>0</td>\n",
       "      <td>0</td>\n",
       "      <td>0</td>\n",
       "      <td>0</td>\n",
       "      <td>0.886861</td>\n",
       "      <td>NaN</td>\n",
       "      <td>2014-05-30</td>\n",
       "      <td>2014.0</td>\n",
       "    </tr>\n",
       "    <tr>\n",
       "      <th>5</th>\n",
       "      <td>5</td>\n",
       "      <td>222662</td>\n",
       "      <td>neg</td>\n",
       "      <td>NaN</td>\n",
       "      <td>0</td>\n",
       "      <td>0</td>\n",
       "      <td>0</td>\n",
       "      <td>0.0</td>\n",
       "      <td>0.0</td>\n",
       "      <td>0.0</td>\n",
       "      <td>...</td>\n",
       "      <td>NaN</td>\n",
       "      <td>0</td>\n",
       "      <td>0</td>\n",
       "      <td>0</td>\n",
       "      <td>0</td>\n",
       "      <td>0</td>\n",
       "      <td>0.852592</td>\n",
       "      <td>NaN</td>\n",
       "      <td>2016-03-04</td>\n",
       "      <td>2016.0</td>\n",
       "    </tr>\n",
       "    <tr>\n",
       "      <th>...</th>\n",
       "      <td>...</td>\n",
       "      <td>...</td>\n",
       "      <td>...</td>\n",
       "      <td>...</td>\n",
       "      <td>...</td>\n",
       "      <td>...</td>\n",
       "      <td>...</td>\n",
       "      <td>...</td>\n",
       "      <td>...</td>\n",
       "      <td>...</td>\n",
       "      <td>...</td>\n",
       "      <td>...</td>\n",
       "      <td>...</td>\n",
       "      <td>...</td>\n",
       "      <td>...</td>\n",
       "      <td>...</td>\n",
       "      <td>...</td>\n",
       "      <td>...</td>\n",
       "      <td>...</td>\n",
       "      <td>...</td>\n",
       "      <td>...</td>\n",
       "    </tr>\n",
       "    <tr>\n",
       "      <th>1546</th>\n",
       "      <td>1546</td>\n",
       "      <td>99027649</td>\n",
       "      <td>pos</td>\n",
       "      <td>NaN</td>\n",
       "      <td>1</td>\n",
       "      <td>0</td>\n",
       "      <td>0</td>\n",
       "      <td>0.0</td>\n",
       "      <td>0.0</td>\n",
       "      <td>3.0</td>\n",
       "      <td>...</td>\n",
       "      <td>;          ;;;1. Liver lacerationï¼?grade IVï¼...</td>\n",
       "      <td>1</td>\n",
       "      <td>0</td>\n",
       "      <td>0</td>\n",
       "      <td>1</td>\n",
       "      <td>1</td>\n",
       "      <td>0.180260</td>\n",
       "      <td>20160709</td>\n",
       "      <td>2016-07-09</td>\n",
       "      <td>2016.0</td>\n",
       "    </tr>\n",
       "    <tr>\n",
       "      <th>1547</th>\n",
       "      <td>1547</td>\n",
       "      <td>99036097</td>\n",
       "      <td>pos</td>\n",
       "      <td>NaN</td>\n",
       "      <td>0</td>\n",
       "      <td>0</td>\n",
       "      <td>0</td>\n",
       "      <td>2.0</td>\n",
       "      <td>0.0</td>\n",
       "      <td>0.0</td>\n",
       "      <td>...</td>\n",
       "      <td>1.left kidney contusion grade II</td>\n",
       "      <td>0</td>\n",
       "      <td>1</td>\n",
       "      <td>0</td>\n",
       "      <td>1</td>\n",
       "      <td>1</td>\n",
       "      <td>0.158992</td>\n",
       "      <td>20120615</td>\n",
       "      <td>2012-06-15</td>\n",
       "      <td>2012.0</td>\n",
       "    </tr>\n",
       "    <tr>\n",
       "      <th>1548</th>\n",
       "      <td>1548</td>\n",
       "      <td>99077740</td>\n",
       "      <td>pos</td>\n",
       "      <td>NaN</td>\n",
       "      <td>1</td>\n",
       "      <td>0</td>\n",
       "      <td>0</td>\n",
       "      <td>0.0</td>\n",
       "      <td>1.0</td>\n",
       "      <td>3.0</td>\n",
       "      <td>...</td>\n",
       "      <td>;  860.0   TRAUMATIC PNEUMOTHORAX WITHOUT MENT...</td>\n",
       "      <td>1</td>\n",
       "      <td>0</td>\n",
       "      <td>1</td>\n",
       "      <td>2</td>\n",
       "      <td>1</td>\n",
       "      <td>0.201017</td>\n",
       "      <td>20100423</td>\n",
       "      <td>2010-04-23</td>\n",
       "      <td>2010.0</td>\n",
       "    </tr>\n",
       "    <tr>\n",
       "      <th>1549</th>\n",
       "      <td>1549</td>\n",
       "      <td>99110268</td>\n",
       "      <td>pos</td>\n",
       "      <td>NaN</td>\n",
       "      <td>0</td>\n",
       "      <td>1</td>\n",
       "      <td>0</td>\n",
       "      <td>0.0</td>\n",
       "      <td>0.0</td>\n",
       "      <td>1.0</td>\n",
       "      <td>...</td>\n",
       "      <td>;          ;;;1.Traumatic SAH2.Grade I liver l...</td>\n",
       "      <td>1</td>\n",
       "      <td>0</td>\n",
       "      <td>0</td>\n",
       "      <td>1</td>\n",
       "      <td>1</td>\n",
       "      <td>0.374261</td>\n",
       "      <td>20130527</td>\n",
       "      <td>2013-05-27</td>\n",
       "      <td>2013.0</td>\n",
       "    </tr>\n",
       "    <tr>\n",
       "      <th>1550</th>\n",
       "      <td>1550</td>\n",
       "      <td>21530095</td>\n",
       "      <td>pos</td>\n",
       "      <td>NaN</td>\n",
       "      <td>0</td>\n",
       "      <td>0</td>\n",
       "      <td>0</td>\n",
       "      <td>0.0</td>\n",
       "      <td>0.0</td>\n",
       "      <td>0.0</td>\n",
       "      <td>...</td>\n",
       "      <td>;          ;;;1. Cranial base fracture with pn...</td>\n",
       "      <td>0</td>\n",
       "      <td>0</td>\n",
       "      <td>1</td>\n",
       "      <td>1</td>\n",
       "      <td>1</td>\n",
       "      <td>0.453142</td>\n",
       "      <td>20120915</td>\n",
       "      <td>2012-09-17</td>\n",
       "      <td>2012.0</td>\n",
       "    </tr>\n",
       "  </tbody>\n",
       "</table>\n",
       "<p>1493 rows × 64 columns</p>\n",
       "</div>"
      ],
      "text/plain": [
       "      Unnamed: 0   chartNo label note  liv_pos  liv_prob  kid_prob  \\\n",
       "0              0    135574   neg  NaN        0         0         0   \n",
       "2              2    164056   neg  NaN        0         0         0   \n",
       "3              3    172868   neg  NaN        0         0         0   \n",
       "4              4    187181   neg  NaN        0         0         0   \n",
       "5              5    222662   neg  NaN        0         0         0   \n",
       "...          ...       ...   ...  ...      ...       ...       ...   \n",
       "1546        1546  99027649   pos  NaN        1         0         0   \n",
       "1547        1547  99036097   pos  NaN        0         0         0   \n",
       "1548        1548  99077740   pos  NaN        1         0         0   \n",
       "1549        1549  99110268   pos  NaN        0         1         0   \n",
       "1550        1550  21530095   pos  NaN        0         0         0   \n",
       "\n",
       "      kid_inj_lt  kid_inj_rt  liv_inj  ...  \\\n",
       "0            0.0         0.0      0.0  ...   \n",
       "2            0.0         0.0      0.0  ...   \n",
       "3            0.0         0.0      0.0  ...   \n",
       "4            0.0         0.0      0.0  ...   \n",
       "5            0.0         0.0      0.0  ...   \n",
       "...          ...         ...      ...  ...   \n",
       "1546         0.0         0.0      3.0  ...   \n",
       "1547         2.0         0.0      0.0  ...   \n",
       "1548         0.0         1.0      3.0  ...   \n",
       "1549         0.0         0.0      1.0  ...   \n",
       "1550         0.0         0.0      0.0  ...   \n",
       "\n",
       "                                             AD_Dx_note  liver_inj_no  \\\n",
       "0                                                   NaN             0   \n",
       "2     1. L4 compression fracture ==> Operation on 12...             0   \n",
       "3                                                   NaN             0   \n",
       "4                                                   NaN             0   \n",
       "5                                                   NaN             0   \n",
       "...                                                 ...           ...   \n",
       "1546  ;          ;;;1. Liver lacerationï¼?grade IVï¼...             1   \n",
       "1547                   1.left kidney contusion grade II             0   \n",
       "1548  ;  860.0   TRAUMATIC PNEUMOTHORAX WITHOUT MENT...             1   \n",
       "1549  ;          ;;;1.Traumatic SAH2.Grade I liver l...             1   \n",
       "1550  ;          ;;;1. Cranial base fracture with pn...             0   \n",
       "\n",
       "      kidney_inj_no spleen_inj_no  inj_site_no inj_solid.1      rand  \\\n",
       "0                 0             0            0           0  0.603099   \n",
       "2                 0             0            0           0  0.650862   \n",
       "3                 0             0            0           0  0.909722   \n",
       "4                 0             0            0           0  0.886861   \n",
       "5                 0             0            0           0  0.852592   \n",
       "...             ...           ...          ...         ...       ...   \n",
       "1546              0             0            1           1  0.180260   \n",
       "1547              1             0            1           1  0.158992   \n",
       "1548              0             1            2           1  0.201017   \n",
       "1549              0             0            1           1  0.374261   \n",
       "1550              0             1            1           1  0.453142   \n",
       "\n",
       "      TRDx_ER_arrival_time_tmp examdate_tmp    year  \n",
       "0                          NaN   2013-08-09  2013.0  \n",
       "2                     20101123   2010-11-23  2010.0  \n",
       "3                          NaN   2011-01-12  2011.0  \n",
       "4                          NaN   2014-05-30  2014.0  \n",
       "5                          NaN   2016-03-04  2016.0  \n",
       "...                        ...          ...     ...  \n",
       "1546                  20160709   2016-07-09  2016.0  \n",
       "1547                  20120615   2012-06-15  2012.0  \n",
       "1548                  20100423   2010-04-23  2010.0  \n",
       "1549                  20130527   2013-05-27  2013.0  \n",
       "1550                  20120915   2012-09-17  2012.0  \n",
       "\n",
       "[1493 rows x 64 columns]"
      ]
     },
     "execution_count": 7,
     "metadata": {},
     "output_type": "execute_result"
    }
   ],
   "source": [
    "df_all_cgmh"
   ]
  },
  {
   "cell_type": "code",
   "execution_count": 11,
   "metadata": {},
   "outputs": [],
   "source": [
    "from utils.visualizer import plot_loss_metric"
   ]
  },
  {
   "cell_type": "code",
   "execution_count": 15,
   "metadata": {},
   "outputs": [],
   "source": [
    "from utils.data_utils import resize_tensor, str2num_or_false"
   ]
  },
  {
   "cell_type": "code",
   "execution_count": 13,
   "metadata": {},
   "outputs": [],
   "source": [
    "from utils.metrics import f1_score, dice_score"
   ]
  },
  {
   "cell_type": "code",
   "execution_count": 16,
   "metadata": {},
   "outputs": [],
   "source": [
    "from model_engine.trainer_and_evaluator import Trainer, Evaluator"
   ]
  },
  {
   "cell_type": "code",
   "execution_count": 22,
   "metadata": {},
   "outputs": [],
   "source": [
    "from utils.metrics import confusion_matrix_CI, confusion_matrix_CI_multi"
   ]
  },
  {
   "cell_type": "code",
   "execution_count": 30,
   "metadata": {},
   "outputs": [],
   "source": [
    "nums = [1,2,3,4,5,6,7]\n",
    "k = 3\n"
   ]
  },
  {
   "cell_type": "code",
   "execution_count": 35,
   "metadata": {},
   "outputs": [
    {
     "name": "stdout",
     "output_type": "stream",
     "text": [
      "[3, 2, 1]\n"
     ]
    }
   ],
   "source": [
    "nums2 = []\n",
    "nums2 = reversed(nums[:k])\n",
    "print(list(nums2))"
   ]
  },
  {
   "cell_type": "code",
   "execution_count": 36,
   "metadata": {},
   "outputs": [],
   "source": [
    "nums.reverse()"
   ]
  },
  {
   "cell_type": "code",
   "execution_count": 37,
   "metadata": {},
   "outputs": [
    {
     "data": {
      "text/plain": [
       "[7, 6, 5, 4, 3, 2, 1]"
      ]
     },
     "execution_count": 37,
     "metadata": {},
     "output_type": "execute_result"
    }
   ],
   "source": [
    "nums"
   ]
  },
  {
   "cell_type": "code",
   "execution_count": 40,
   "metadata": {},
   "outputs": [],
   "source": [
    "k=3\n",
    "k %= 7"
   ]
  },
  {
   "cell_type": "code",
   "execution_count": 41,
   "metadata": {},
   "outputs": [
    {
     "data": {
      "text/plain": [
       "3"
      ]
     },
     "execution_count": 41,
     "metadata": {},
     "output_type": "execute_result"
    }
   ],
   "source": [
    "k"
   ]
  },
  {
   "cell_type": "code",
   "execution_count": 45,
   "metadata": {},
   "outputs": [],
   "source": [
    "left = [1]*7"
   ]
  },
  {
   "cell_type": "code",
   "execution_count": 44,
   "metadata": {},
   "outputs": [
    {
     "data": {
      "text/plain": [
       "[1, 1, 1, 1, 1]"
      ]
     },
     "execution_count": 44,
     "metadata": {},
     "output_type": "execute_result"
    }
   ],
   "source": [
    "left"
   ]
  },
  {
   "cell_type": "code",
   "execution_count": 46,
   "metadata": {},
   "outputs": [],
   "source": [
    "nums = [1,2,3,4,5,6,7]"
   ]
  },
  {
   "cell_type": "code",
   "execution_count": 55,
   "metadata": {},
   "outputs": [
    {
     "name": "stdout",
     "output_type": "stream",
     "text": [
      "7\n",
      "6\n",
      "5\n",
      "4\n",
      "3\n",
      "2\n",
      "1\n"
     ]
    }
   ],
   "source": [
    "for i in range(7,0,-1):\n",
    "    print(i)"
   ]
  },
  {
   "cell_type": "code",
   "execution_count": null,
   "metadata": {},
   "outputs": [],
   "source": []
  }
 ],
 "metadata": {
  "kernelspec": {
   "display_name": "Python 3",
   "language": "python",
   "name": "python3"
  },
  "language_info": {
   "codemirror_mode": {
    "name": "ipython",
    "version": 3
   },
   "file_extension": ".py",
   "mimetype": "text/x-python",
   "name": "python",
   "nbconvert_exporter": "python",
   "pygments_lexer": "ipython3",
   "version": "3.8.10"
  }
 },
 "nbformat": 4,
 "nbformat_minor": 2
}
